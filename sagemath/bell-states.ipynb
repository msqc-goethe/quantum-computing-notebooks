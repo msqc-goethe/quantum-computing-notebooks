{
 "cells": [
  {
   "cell_type": "markdown",
   "id": "5a4b1c07",
   "metadata": {},
   "source": [
    "# Bell States"
   ]
  },
  {
   "cell_type": "markdown",
   "id": "82b2579d",
   "metadata": {},
   "source": [
    "Let's write down $\\lvert0\\rangle$ and $\\lvert1\\rangle$ in vector form."
   ]
  },
  {
   "cell_type": "code",
   "execution_count": 1,
   "id": "db33b007",
   "metadata": {},
   "outputs": [
    {
     "data": {
      "text/html": [
       "<html><script type=\"math/tex; mode=display\">\\newcommand{\\Bold}[1]{\\mathbf{#1}}\\left(\\begin{array}{r}\n",
       "1 \\\\\n",
       "0\n",
       "\\end{array}\\right) \\left(\\begin{array}{r}\n",
       "0 \\\\\n",
       "1\n",
       "\\end{array}\\right)</script></html>"
      ],
      "text/plain": [
       "[1]\n",
       "[0] [0]\n",
       "[1]"
      ]
     },
     "metadata": {},
     "output_type": "display_data"
    }
   ],
   "source": [
    "z_0 = matrix([1, 0]).transpose()\n",
    "z_1 = matrix([0, 1]).transpose()\n",
    "pretty_print(z_0, z_1)"
   ]
  },
  {
   "cell_type": "markdown",
   "id": "a54728cf",
   "metadata": {},
   "source": [
    "We can create multiple qubit states with the tensor product."
   ]
  },
  {
   "cell_type": "code",
   "execution_count": 2,
   "id": "a63fe05c",
   "metadata": {},
   "outputs": [
    {
     "data": {
      "text/html": [
       "<html><script type=\"math/tex; mode=display\">\\newcommand{\\Bold}[1]{\\mathbf{#1}}\\left(\\begin{array}{r}\n",
       "1 \\\\\n",
       "0 \\\\\n",
       "\\hline\n",
       " 0 \\\\\n",
       "0\n",
       "\\end{array}\\right) \\left(\\begin{array}{r}\n",
       "0 \\\\\n",
       "1 \\\\\n",
       "\\hline\n",
       " 0 \\\\\n",
       "0\n",
       "\\end{array}\\right) \\left(\\begin{array}{r}\n",
       "0 \\\\\n",
       "0 \\\\\n",
       "\\hline\n",
       " 1 \\\\\n",
       "0\n",
       "\\end{array}\\right) \\left(\\begin{array}{r}\n",
       "0 \\\\\n",
       "0 \\\\\n",
       "\\hline\n",
       " 0 \\\\\n",
       "1\n",
       "\\end{array}\\right)</script></html>"
      ],
      "text/plain": [
       "[1]\n",
       "[0]\n",
       "[-]\n",
       "[0]\n",
       "[0] [0]\n",
       "[1]\n",
       "[-]\n",
       "[0]\n",
       "[0] [0]\n",
       "[0]\n",
       "[-]\n",
       "[1]\n",
       "[0] [0]\n",
       "[0]\n",
       "[-]\n",
       "[0]\n",
       "[1]"
      ]
     },
     "metadata": {},
     "output_type": "display_data"
    }
   ],
   "source": [
    "z_00 = z_0.tensor_product(z_0)\n",
    "z_01 = z_0.tensor_product(z_1)\n",
    "z_10 = z_1.tensor_product(z_0)\n",
    "z_11 = z_1.tensor_product(z_1)\n",
    "pretty_print(z_00, z_01, z_10, z_11)"
   ]
  },
  {
   "cell_type": "markdown",
   "id": "bbe7cb4a",
   "metadata": {},
   "source": [
    "Parallel gates can be expressed as tensor product as well."
   ]
  },
  {
   "cell_type": "code",
   "execution_count": 3,
   "id": "7cba1eb9",
   "metadata": {},
   "outputs": [
    {
     "data": {
      "text/html": [
       "<html><script type=\"math/tex; mode=display\">\\newcommand{\\Bold}[1]{\\mathbf{#1}}\\left(\\begin{array}{rr}\n",
       "\\frac{1}{2} \\, \\sqrt{2} & \\frac{1}{2} \\, \\sqrt{2} \\\\\n",
       "\\frac{1}{2} \\, \\sqrt{2} & -\\frac{1}{2} \\, \\sqrt{2}\n",
       "\\end{array}\\right)</script></html>"
      ],
      "text/plain": [
       "[ 1/2*sqrt(2)  1/2*sqrt(2)]\n",
       "[ 1/2*sqrt(2) -1/2*sqrt(2)]"
      ]
     },
     "metadata": {},
     "output_type": "display_data"
    }
   ],
   "source": [
    "H = (1 / sqrt(2)) * matrix([[1, 1], [1, -1]])\n",
    "pretty_print(H)"
   ]
  },
  {
   "cell_type": "code",
   "execution_count": 4,
   "id": "90239da5",
   "metadata": {},
   "outputs": [
    {
     "data": {
      "text/html": [
       "<html><script type=\"math/tex; mode=display\">\\newcommand{\\Bold}[1]{\\mathbf{#1}}\\left(\\begin{array}{rr|rr}\n",
       "\\frac{1}{2} \\, \\sqrt{2} & 0 & \\frac{1}{2} \\, \\sqrt{2} & 0 \\\\\n",
       "0 & \\frac{1}{2} \\, \\sqrt{2} & 0 & \\frac{1}{2} \\, \\sqrt{2} \\\\\n",
       "\\hline\n",
       " \\frac{1}{2} \\, \\sqrt{2} & 0 & -\\frac{1}{2} \\, \\sqrt{2} & 0 \\\\\n",
       "0 & \\frac{1}{2} \\, \\sqrt{2} & 0 & -\\frac{1}{2} \\, \\sqrt{2}\n",
       "\\end{array}\\right)</script></html>"
      ],
      "text/plain": [
       "[ 1/2*sqrt(2)            0| 1/2*sqrt(2)            0]\n",
       "[           0  1/2*sqrt(2)|           0  1/2*sqrt(2)]\n",
       "[-------------------------+-------------------------]\n",
       "[ 1/2*sqrt(2)            0|-1/2*sqrt(2)            0]\n",
       "[           0  1/2*sqrt(2)|           0 -1/2*sqrt(2)]"
      ]
     },
     "metadata": {},
     "output_type": "display_data"
    }
   ],
   "source": [
    "H_p_I = H.tensor_product(identity_matrix(2))\n",
    "pretty_print(H_p_I)"
   ]
  },
  {
   "cell_type": "markdown",
   "id": "0b00ce86",
   "metadata": {},
   "source": [
    "We also need a CNOT gate."
   ]
  },
  {
   "cell_type": "code",
   "execution_count": 5,
   "id": "0eb96602",
   "metadata": {},
   "outputs": [
    {
     "data": {
      "text/html": [
       "<html><script type=\"math/tex; mode=display\">\\newcommand{\\Bold}[1]{\\mathbf{#1}}\\left(\\begin{array}{rrrr}\n",
       "1 & 0 & 0 & 0 \\\\\n",
       "0 & 1 & 0 & 0 \\\\\n",
       "0 & 0 & 0 & 1 \\\\\n",
       "0 & 0 & 1 & 0\n",
       "\\end{array}\\right)</script></html>"
      ],
      "text/plain": [
       "[1 0 0 0]\n",
       "[0 1 0 0]\n",
       "[0 0 0 1]\n",
       "[0 0 1 0]"
      ]
     },
     "metadata": {},
     "output_type": "display_data"
    }
   ],
   "source": [
    "CNOT = matrix([[1, 0, 0, 0],\n",
    "               [0, 1, 0, 0],\n",
    "               [0, 0, 0, 1],\n",
    "               [0, 0, 1, 0]])\n",
    "pretty_print(CNOT)"
   ]
  },
  {
   "cell_type": "markdown",
   "id": "13cf7909",
   "metadata": {},
   "source": [
    "Now let's see if we can get the Bell states."
   ]
  },
  {
   "cell_type": "code",
   "execution_count": 6,
   "id": "e0c82ac9",
   "metadata": {},
   "outputs": [
    {
     "data": {
      "text/html": [
       "<html><script type=\"math/tex; mode=display\">\\newcommand{\\Bold}[1]{\\mathbf{#1}}\\left(\\begin{array}{r}\n",
       "\\frac{1}{2} \\, \\sqrt{2} \\\\\n",
       "0 \\\\\n",
       "0 \\\\\n",
       "\\frac{1}{2} \\, \\sqrt{2}\n",
       "\\end{array}\\right) \\left(\\begin{array}{r}\n",
       "0 \\\\\n",
       "\\frac{1}{2} \\, \\sqrt{2} \\\\\n",
       "\\frac{1}{2} \\, \\sqrt{2} \\\\\n",
       "0\n",
       "\\end{array}\\right) \\left(\\begin{array}{r}\n",
       "\\frac{1}{2} \\, \\sqrt{2} \\\\\n",
       "0 \\\\\n",
       "0 \\\\\n",
       "-\\frac{1}{2} \\, \\sqrt{2}\n",
       "\\end{array}\\right) \\left(\\begin{array}{r}\n",
       "0 \\\\\n",
       "\\frac{1}{2} \\, \\sqrt{2} \\\\\n",
       "-\\frac{1}{2} \\, \\sqrt{2} \\\\\n",
       "0\n",
       "\\end{array}\\right)</script></html>"
      ],
      "text/plain": [
       "[1/2*sqrt(2)]\n",
       "[          0]\n",
       "[          0]\n",
       "[1/2*sqrt(2)] [          0]\n",
       "[1/2*sqrt(2)]\n",
       "[1/2*sqrt(2)]\n",
       "[          0] [ 1/2*sqrt(2)]\n",
       "[           0]\n",
       "[           0]\n",
       "[-1/2*sqrt(2)] [           0]\n",
       "[ 1/2*sqrt(2)]\n",
       "[-1/2*sqrt(2)]\n",
       "[           0]"
      ]
     },
     "metadata": {},
     "output_type": "display_data"
    }
   ],
   "source": [
    "b_00 = CNOT * H_p_I * z_00\n",
    "b_01 = CNOT * H_p_I * z_01\n",
    "b_10 = CNOT * H_p_I * z_10\n",
    "b_11 = CNOT * H_p_I * z_11\n",
    "pretty_print(b_00, b_01, b_10, b_11)"
   ]
  },
  {
   "cell_type": "markdown",
   "id": "2ad7dd69",
   "metadata": {},
   "source": [
    "We can show that the bell states form an orthonormal basis:\n",
    "- All base vectors have the norm 1: $\\langle b_i \\rvert b_i \\rangle=1$ for all $i \\in {1,\\ldots,n}$\n",
    "- The base vectors are pairwise orthogonal: $\\langle b_i \\rvert b_j \\rangle=0$ for all $i,j \\in {1,\\ldots,n}$ with $i\\neq j$"
   ]
  },
  {
   "cell_type": "code",
   "execution_count": 7,
   "id": "ddab3131",
   "metadata": {},
   "outputs": [
    {
     "data": {
      "text/html": [
       "<html><script type=\"math/tex; mode=display\">\\newcommand{\\Bold}[1]{\\mathbf{#1}}1</script></html>"
      ],
      "text/plain": [
       "1"
      ]
     },
     "metadata": {},
     "output_type": "display_data"
    },
    {
     "data": {
      "text/html": [
       "<html><script type=\"math/tex; mode=display\">\\newcommand{\\Bold}[1]{\\mathbf{#1}}1</script></html>"
      ],
      "text/plain": [
       "1"
      ]
     },
     "metadata": {},
     "output_type": "display_data"
    },
    {
     "data": {
      "text/html": [
       "<html><script type=\"math/tex; mode=display\">\\newcommand{\\Bold}[1]{\\mathbf{#1}}1</script></html>"
      ],
      "text/plain": [
       "1"
      ]
     },
     "metadata": {},
     "output_type": "display_data"
    },
    {
     "data": {
      "text/html": [
       "<html><script type=\"math/tex; mode=display\">\\newcommand{\\Bold}[1]{\\mathbf{#1}}1</script></html>"
      ],
      "text/plain": [
       "1"
      ]
     },
     "metadata": {},
     "output_type": "display_data"
    }
   ],
   "source": [
    "for b_i in [b_00, b_01, b_10, b_11]:\n",
    "    pretty_print(sqrt(b_i.conjugate_transpose() * b_i))"
   ]
  },
  {
   "cell_type": "code",
   "execution_count": 8,
   "id": "fd96d8bd",
   "metadata": {},
   "outputs": [
    {
     "data": {
      "text/html": [
       "<html><script type=\"math/tex; mode=display\">\\newcommand{\\Bold}[1]{\\mathbf{#1}}\\left(\\begin{array}{r}\n",
       "0\n",
       "\\end{array}\\right)</script></html>"
      ],
      "text/plain": [
       "[0]"
      ]
     },
     "metadata": {},
     "output_type": "display_data"
    },
    {
     "data": {
      "text/html": [
       "<html><script type=\"math/tex; mode=display\">\\newcommand{\\Bold}[1]{\\mathbf{#1}}\\left(\\begin{array}{r}\n",
       "0\n",
       "\\end{array}\\right)</script></html>"
      ],
      "text/plain": [
       "[0]"
      ]
     },
     "metadata": {},
     "output_type": "display_data"
    },
    {
     "data": {
      "text/html": [
       "<html><script type=\"math/tex; mode=display\">\\newcommand{\\Bold}[1]{\\mathbf{#1}}\\left(\\begin{array}{r}\n",
       "0\n",
       "\\end{array}\\right)</script></html>"
      ],
      "text/plain": [
       "[0]"
      ]
     },
     "metadata": {},
     "output_type": "display_data"
    },
    {
     "data": {
      "text/html": [
       "<html><script type=\"math/tex; mode=display\">\\newcommand{\\Bold}[1]{\\mathbf{#1}}\\left(\\begin{array}{r}\n",
       "0\n",
       "\\end{array}\\right)</script></html>"
      ],
      "text/plain": [
       "[0]"
      ]
     },
     "metadata": {},
     "output_type": "display_data"
    },
    {
     "data": {
      "text/html": [
       "<html><script type=\"math/tex; mode=display\">\\newcommand{\\Bold}[1]{\\mathbf{#1}}\\left(\\begin{array}{r}\n",
       "0\n",
       "\\end{array}\\right)</script></html>"
      ],
      "text/plain": [
       "[0]"
      ]
     },
     "metadata": {},
     "output_type": "display_data"
    },
    {
     "data": {
      "text/html": [
       "<html><script type=\"math/tex; mode=display\">\\newcommand{\\Bold}[1]{\\mathbf{#1}}\\left(\\begin{array}{r}\n",
       "0\n",
       "\\end{array}\\right)</script></html>"
      ],
      "text/plain": [
       "[0]"
      ]
     },
     "metadata": {},
     "output_type": "display_data"
    },
    {
     "data": {
      "text/html": [
       "<html><script type=\"math/tex; mode=display\">\\newcommand{\\Bold}[1]{\\mathbf{#1}}\\left(\\begin{array}{r}\n",
       "0\n",
       "\\end{array}\\right)</script></html>"
      ],
      "text/plain": [
       "[0]"
      ]
     },
     "metadata": {},
     "output_type": "display_data"
    },
    {
     "data": {
      "text/html": [
       "<html><script type=\"math/tex; mode=display\">\\newcommand{\\Bold}[1]{\\mathbf{#1}}\\left(\\begin{array}{r}\n",
       "0\n",
       "\\end{array}\\right)</script></html>"
      ],
      "text/plain": [
       "[0]"
      ]
     },
     "metadata": {},
     "output_type": "display_data"
    },
    {
     "data": {
      "text/html": [
       "<html><script type=\"math/tex; mode=display\">\\newcommand{\\Bold}[1]{\\mathbf{#1}}\\left(\\begin{array}{r}\n",
       "0\n",
       "\\end{array}\\right)</script></html>"
      ],
      "text/plain": [
       "[0]"
      ]
     },
     "metadata": {},
     "output_type": "display_data"
    },
    {
     "data": {
      "text/html": [
       "<html><script type=\"math/tex; mode=display\">\\newcommand{\\Bold}[1]{\\mathbf{#1}}\\left(\\begin{array}{r}\n",
       "0\n",
       "\\end{array}\\right)</script></html>"
      ],
      "text/plain": [
       "[0]"
      ]
     },
     "metadata": {},
     "output_type": "display_data"
    },
    {
     "data": {
      "text/html": [
       "<html><script type=\"math/tex; mode=display\">\\newcommand{\\Bold}[1]{\\mathbf{#1}}\\left(\\begin{array}{r}\n",
       "0\n",
       "\\end{array}\\right)</script></html>"
      ],
      "text/plain": [
       "[0]"
      ]
     },
     "metadata": {},
     "output_type": "display_data"
    },
    {
     "data": {
      "text/html": [
       "<html><script type=\"math/tex; mode=display\">\\newcommand{\\Bold}[1]{\\mathbf{#1}}\\left(\\begin{array}{r}\n",
       "0\n",
       "\\end{array}\\right)</script></html>"
      ],
      "text/plain": [
       "[0]"
      ]
     },
     "metadata": {},
     "output_type": "display_data"
    }
   ],
   "source": [
    "for b_i in [b_00, b_01, b_10, b_11]:\n",
    "    for b_j in [b_00, b_01, b_10, b_11]:\n",
    "        if b_i != b_j:\n",
    "            pretty_print(b_i.conjugate_transpose() * b_j)"
   ]
  },
  {
   "cell_type": "code",
   "execution_count": null,
   "id": "ee3acad8",
   "metadata": {},
   "outputs": [],
   "source": []
  }
 ],
 "metadata": {
  "kernelspec": {
   "display_name": "SageMath 9.0",
   "language": "sage",
   "name": "sagemath"
  },
  "language_info": {
   "codemirror_mode": {
    "name": "ipython",
    "version": 3
   },
   "file_extension": ".py",
   "mimetype": "text/x-python",
   "name": "python",
   "nbconvert_exporter": "python",
   "pygments_lexer": "ipython3",
   "version": "3.8.10"
  }
 },
 "nbformat": 4,
 "nbformat_minor": 5
}
