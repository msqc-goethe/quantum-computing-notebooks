{
 "cells": [
  {
   "cell_type": "markdown",
   "id": "b61783d8",
   "metadata": {},
   "source": [
    "# Exercise 1"
   ]
  },
  {
   "cell_type": "markdown",
   "id": "f51b04a1",
   "metadata": {},
   "source": [
    "QUBO for our Max Cut problem:\n",
    "\n",
    "$C(z) =\n",
    "\\begin{pmatrix}z_1& z_2& z_3& z_4& z_5\n",
    "\\end{pmatrix}\n",
    "\\begin{pmatrix}\n",
    "2& -2& -2&  0&  0\\\\\n",
    "0&  2&  0& -2&  0\\\\\n",
    "0&  0&  3& -2& -2\\\\\n",
    "0&  0&  0&  3& -2\\\\\n",
    "0&  0&  0&  0&  2\\\\\n",
    "\\end{pmatrix}\n",
    "\\begin{pmatrix}\n",
    "z_1\\\\\n",
    "z_2\\\\\n",
    "z_3\\\\\n",
    "z_4\\\\\n",
    "z_5\n",
    "\\end{pmatrix}$\n",
    "\n",
    "We can easily show that this is identical to\n",
    "\n",
    "$C(z) = 2z_1^2 + 2z_2^2 + 3z_3^2 + 3z_4^2 + 2z_5^2-2z_1z_2-2z_1z_3-2z_2z_4-2z_3z_4-2z_3z_5-2z_4z_5$\n",
    "\n",
    "by performing the matrix vector multiplication. Let's do this with the help of sympy."
   ]
  },
  {
   "cell_type": "code",
   "execution_count": 1,
   "id": "f34acfc6",
   "metadata": {},
   "outputs": [
    {
     "data": {
      "text/latex": [
       "$\\displaystyle 2 z_{1}^{2} - 2 z_{1} z_{2} - 2 z_{1} z_{3} + 2 z_{2}^{2} - 2 z_{2} z_{4} + 3 z_{3}^{2} - 2 z_{3} z_{4} - 2 z_{3} z_{5} + 3 z_{4}^{2} - 2 z_{4} z_{5} + 2 z_{5}^{2}$"
      ],
      "text/plain": [
       "2*z_1**2 - 2*z_1*z_2 - 2*z_1*z_3 + 2*z_2**2 - 2*z_2*z_4 + 3*z_3**2 - 2*z_3*z_4 - 2*z_3*z_5 + 3*z_4**2 - 2*z_4*z_5 + 2*z_5**2"
      ]
     },
     "metadata": {},
     "output_type": "display_data"
    }
   ],
   "source": [
    "from sympy import symbols, expand, init_printing\n",
    "from sympy.matrices import Matrix\n",
    "# required for pretty printing\n",
    "from IPython.display import display\n",
    "\n",
    "\n",
    "z_1, z_2, z_3, z_4, z_5 = symbols('z_1 z_2 z_3 z_4 z_5')\n",
    "Q = Matrix([[2, -2, -2,  0,  0],\n",
    "            [0,  2,  0, -2,  0],\n",
    "            [0,  0,  3, -2, -2],\n",
    "            [0,  0,  0,  3, -2],\n",
    "            [0,  0,  0,  0,  2]])\n",
    "z = Matrix([z_1, z_2, z_3, z_4, z_5])\n",
    "C = expand(z.T * Q * z)[0]\n",
    "display(C)"
   ]
  },
  {
   "attachments": {},
   "cell_type": "markdown",
   "id": "7e1b9c07",
   "metadata": {},
   "source": [
    "(a) Solve the optimization problem for which we formulated the QUBO and try to find the best solution just by looking at the graph.\n",
    "\n",
    "The best solution has 5 edges belonging to the cut. There are different possibilities which lead to this result.\n",
    "![One possible solution](figures/max-cut_1_solution_res.png)\n",
    "\n",
    "Let's calculate the objective function with $z_1 = z_4 = z_5 = 0$ and $z_2 = z_3 = 1$."
   ]
  },
  {
   "cell_type": "code",
   "execution_count": 2,
   "id": "ca53387c",
   "metadata": {},
   "outputs": [
    {
     "data": {
      "text/latex": [
       "$\\displaystyle 5$"
      ],
      "text/plain": [
       "5"
      ]
     },
     "metadata": {},
     "output_type": "display_data"
    }
   ],
   "source": [
    "display(C.subs([(z_1, 0), (z_4, 0), (z_5, 0), (z_2, 1), (z_3, 1)]))"
   ]
  },
  {
   "cell_type": "markdown",
   "id": "558b4e3e",
   "metadata": {},
   "source": [
    "The value calculated with the objective function equates the number of edges in the cut."
   ]
  },
  {
   "cell_type": "code",
   "execution_count": 3,
   "id": "9f59810b",
   "metadata": {},
   "outputs": [],
   "source": [
    "import numpy as np\n",
    "\n",
    "\n",
    "# find the best z vor a given Q\n",
    "def solve_qubo(q):\n",
    "    # get the dimension of Q\n",
    "    n = q.shape[0]\n",
    "    z_int = 0\n",
    "    # variables to store the best solution\n",
    "    best_c = 0\n",
    "    best_z = None\n",
    "    # Iterate through all possible bitvectors z. We start with an integer which is inkremented each loop cycle.\n",
    "    # From this integer we create a bit vector with length n. E.g. if n = 5 and z_int = 7 we get [0, 0, 1, 1, 1].\n",
    "    for z_int in range(2**n):\n",
    "        # create bit vector from integer\n",
    "        z = np.array([z_int >> i & 1 for i in range(n - 1, -1, -1)])\n",
    "        # perform the multiplication z_T * Q * z\n",
    "        c = z.dot(q).dot(np.atleast_2d(z).T)[0]\n",
    "        # check if the calculated C is better then the previous best C and store the new C and z if so.\n",
    "        if c > best_c:\n",
    "            best_c = c\n",
    "            best_z = z\n",
    "    # return the best of the results we got\n",
    "    return best_c, best_z"
   ]
  },
  {
   "cell_type": "markdown",
   "id": "e61e2787",
   "metadata": {},
   "source": [
    "(c) Use the implemented function to solve the Max Cut problem."
   ]
  },
  {
   "cell_type": "code",
   "execution_count": 4,
   "id": "4caba751",
   "metadata": {},
   "outputs": [
    {
     "name": "stdout",
     "output_type": "stream",
     "text": [
      "(5, array([0, 1, 1, 0, 0]))\n"
     ]
    }
   ],
   "source": [
    "# run the solver for our already defined Q\n",
    "print(solve_qubo(np.array(Q)))"
   ]
  },
  {
   "cell_type": "markdown",
   "id": "af512558",
   "metadata": {},
   "source": [
    "The result shows that vertex 2 and 3 belong to one and the other vertices to the other set. It is the same result we already found. Note that there are other results which also have 5 edges in the cut."
   ]
  },
  {
   "attachments": {},
   "cell_type": "markdown",
   "id": "fa74e283",
   "metadata": {},
   "source": [
    "(d) Formulate a QUBO for below graph and find the best solution.\n",
    "![One possible solution](figures/max-cut_2_res.png)"
   ]
  },
  {
   "cell_type": "markdown",
   "id": "adf0865f",
   "metadata": {},
   "source": [
    "The QUBO can be formulated in the same way like for the previous graph. We add $z_i+z_j-2z_iz_j$ for every edge to calculate if it is in the cut or not. I calculate this term from an adjacency matrix in Python. This is not required in the exercise, you can also do the QUBO formulation with pen and paper. An adjacency matrix represents a graph. The matrix simply has a 1 in row $i$ and column $j$, if vertices $i$ and $j$ are connected. For an undirected graph the adjacency matrix is symmetric, therefore we can ignore the lower triangle. Example for above graph:\n",
    "\n",
    "\\begin{pmatrix}\n",
    "1& 1& 1& 0& 0& 0& 0& 0\\\\\n",
    "0& 1& 1& 0& 0& 0& 0& 0\\\\\n",
    "0& 0& 1& 1& 0& 0& 0& 0\\\\\n",
    "0& 0& 0& 1& 0& 1& 0& 0\\\\\n",
    "0& 0& 0& 0& 1& 1& 0& 1\\\\\n",
    "0& 0& 0& 0& 0& 1& 1& 1\\\\\n",
    "0& 0& 0& 0& 0& 0& 1& 0\\\\\n",
    "0& 0& 0& 0& 0& 0& 0& 1\\\\\n",
    "\\end{pmatrix}\n"
   ]
  },
  {
   "cell_type": "code",
   "execution_count": 5,
   "id": "3940efb1",
   "metadata": {},
   "outputs": [],
   "source": [
    "# create a QUBO for the Max Cut problem for a given adjacency matrix\n",
    "def adjacency2qubo(a):\n",
    "    # get the size of the matrix and create a matrix for the QUBO with the same size\n",
    "    n = a.shape[0]\n",
    "    q = np.zeros((n, n))\n",
    "    # iterate through the upper triangle of the matrix\n",
    "    for row in range(n-1):\n",
    "        for col in range(row+1, n):\n",
    "            # if there is a connection, we set the entry in the upper triangle of the QUBO to -2 and add 1\n",
    "            # to the entries on the diagonal\n",
    "            if a[row, col] == 1:\n",
    "                q[row, row] += 1\n",
    "                q[col, col] += 1\n",
    "                q[row, col] = -2\n",
    "    return q"
   ]
  },
  {
   "cell_type": "code",
   "execution_count": 6,
   "id": "d23e731a",
   "metadata": {},
   "outputs": [
    {
     "name": "stdout",
     "output_type": "stream",
     "text": [
      "[[ 2. -2. -2.  0.  0.  0.  0.  0.]\n",
      " [ 0.  2. -2.  0.  0.  0.  0.  0.]\n",
      " [ 0.  0.  3. -2.  0.  0.  0.  0.]\n",
      " [ 0.  0.  0.  2.  0. -2.  0.  0.]\n",
      " [ 0.  0.  0.  0.  2. -2.  0. -2.]\n",
      " [ 0.  0.  0.  0.  0.  4. -2. -2.]\n",
      " [ 0.  0.  0.  0.  0.  0.  1.  0.]\n",
      " [ 0.  0.  0.  0.  0.  0.  0.  2.]]\n"
     ]
    }
   ],
   "source": [
    "# the adjacency matrix for our problem\n",
    "a = np.array([[1, 1, 1, 0, 0, 0, 0, 0],\n",
    "              [0, 1, 1, 0, 0, 0, 0, 0],\n",
    "              [0, 0, 1, 1, 0, 0, 0, 0],\n",
    "              [0, 0, 0, 1, 0, 1, 0, 0],\n",
    "              [0, 0, 0, 0, 1, 1, 0, 1],\n",
    "              [0, 0, 0, 0, 0, 1, 1, 1],\n",
    "              [0, 0, 0, 0, 0, 0, 1, 0],\n",
    "              [0, 0, 0, 0, 0, 0, 0, 1]])\n",
    "print(adjacency2qubo(a))"
   ]
  },
  {
   "cell_type": "code",
   "execution_count": 7,
   "id": "2e00fa3a",
   "metadata": {},
   "outputs": [
    {
     "name": "stdout",
     "output_type": "stream",
     "text": [
      "(7.0, array([0, 0, 1, 0, 0, 1, 0, 0]))\n"
     ]
    }
   ],
   "source": [
    "# find the best solution\n",
    "print(solve_qubo(adjacency2qubo(a)))"
   ]
  },
  {
   "attachments": {},
   "cell_type": "markdown",
   "id": "0ade988e",
   "metadata": {},
   "source": [
    "The best solution has 7 edges in the cut and looks like shown below.\n",
    "![One possible solution](figures/max-cut_2_solution_res.png)"
   ]
  },
  {
   "cell_type": "markdown",
   "id": "a51122b8",
   "metadata": {},
   "source": [
    "(e) Write a function to create QUBOs for the Max Cut problem for graphs with n vertices and random connections.\n",
    "\n",
    "For this exercise we can reuse our adjacency2qubo function. We simply create a random adjacency matrix and convert it to the QUBO. We could also create the QUBO directly, but we can use the adjacency matrix also to visualize the matrix."
   ]
  },
  {
   "cell_type": "code",
   "execution_count": 8,
   "id": "80102ef1",
   "metadata": {},
   "outputs": [],
   "source": [
    "import random\n",
    "import math\n",
    "\n",
    "\n",
    "# create a random adjacency matrix\n",
    "def create_rand_adjacency(n):\n",
    "    a = np.identity(n)\n",
    "    # iterate through the upper triangle of the matrix\n",
    "    for row in range(n-1):\n",
    "        for col in range(row+1, n):\n",
    "            # set random connections\n",
    "            if random.randint(0, math.ceil(n/4)) == 0:\n",
    "                a[row, col] = 1\n",
    "    return a\n",
    "\n",
    "# create a random QUBO\n",
    "def create_rand_qubo(n):\n",
    "    return adjacency2qubo(create_rand_adjacency(n))"
   ]
  },
  {
   "cell_type": "markdown",
   "id": "969e1cb1",
   "metadata": {},
   "source": [
    "Let's visualize some random graphs."
   ]
  },
  {
   "cell_type": "code",
   "execution_count": 9,
   "id": "abe73553",
   "metadata": {},
   "outputs": [
    {
     "data": {
      "image/png": "[encoded data removed]",
      "text/plain": [
       "<Figure size 432x288 with 1 Axes>"
      ]
     },
     "metadata": {},
     "output_type": "display_data"
    }
   ],
   "source": [
    "# hide an ugly deprecation warning\n",
    "import warnings\n",
    "warnings.filterwarnings('ignore')\n",
    "import networkx as nx\n",
    "import matplotlib.pyplot as plt\n",
    "\n",
    "\n",
    "rand_adjacency = create_rand_adjacency(20)\n",
    "graph = nx.from_numpy_matrix(rand_adjacency)\n",
    "pos = nx.spring_layout(graph, seed=42)\n",
    "nx.draw(graph, pos=pos, with_labels=True)"
   ]
  },
  {
   "cell_type": "markdown",
   "id": "6ee4e17f",
   "metadata": {},
   "source": [
    "We can also solve the Max Cut problem for this graph and color the nodes."
   ]
  },
  {
   "cell_type": "code",
   "execution_count": 10,
   "id": "10e16104",
   "metadata": {},
   "outputs": [
    {
     "name": "stdout",
     "output_type": "stream",
     "text": [
      "(36.0, array([0, 0, 1, 0, 0, 1, 1, 1, 0, 1, 0, 0, 0, 1, 0, 1, 1, 1, 1, 0]))\n"
     ]
    }
   ],
   "source": [
    "result = solve_qubo(adjacency2qubo(rand_adjacency))\n",
    "print(result)"
   ]
  },
  {
   "cell_type": "code",
   "execution_count": 11,
   "id": "8afb033e",
   "metadata": {},
   "outputs": [
    {
     "data": {
      "image/png": "[encoded data removed]",
      "text/plain": [
       "<Figure size 432x288 with 1 Axes>"
      ]
     },
     "metadata": {},
     "output_type": "display_data"
    }
   ],
   "source": [
    "colors = []\n",
    "for z in result[1]:\n",
    "    if z == 0:\n",
    "        colors.append('orangered')\n",
    "    else:\n",
    "        colors.append('lime')\n",
    "nx.draw(graph, pos=pos, node_color=colors, with_labels=True)"
   ]
  },
  {
   "cell_type": "markdown",
   "id": "5d70b1f1",
   "metadata": {},
   "source": [
    "Let's perform some benchmarks."
   ]
  },
  {
   "cell_type": "code",
   "execution_count": 12,
   "id": "f78c1799",
   "metadata": {},
   "outputs": [
    {
     "name": "stdout",
     "output_type": "stream",
     "text": [
      "n = 2, T =   0.00010\n",
      "n = 3, T =   0.00014\n",
      "n = 4, T =   0.00076\n",
      "n = 5, T =   0.00030\n",
      "n = 6, T =   0.00081\n",
      "n = 7, T =   0.00071\n",
      "n = 8, T =   0.00100\n",
      "n = 9, T =   0.00227\n",
      "n = 10, T =   0.00829\n",
      "n = 11, T =   0.00992\n",
      "n = 12, T =   0.01922\n",
      "n = 13, T =   0.03551\n",
      "n = 14, T =   0.07370\n",
      "n = 15, T =   0.15340\n",
      "n = 16, T =   0.29695\n",
      "n = 17, T =   0.61111\n",
      "n = 18, T =   1.24984\n",
      "n = 19, T =   2.59146\n",
      "n = 20, T =   5.08311\n",
      "n = 21, T =  10.28188\n",
      "n = 22, T =  20.46779\n",
      "n = 23, T =  42.31574\n",
      "n = 24, T =  86.65072\n"
     ]
    }
   ],
   "source": [
    "import time\n",
    "\n",
    "\n",
    "times = []\n",
    "for n in range(2, 25):\n",
    "    # create the QUBO\n",
    "    q = create_rand_qubo(n)\n",
    "    # solve the optimization problem and stop the time\n",
    "    start_time = time.time()\n",
    "    solve_qubo(q)\n",
    "    stop_time = time.time()\n",
    "    times.append(stop_time - start_time)\n",
    "    print('n = ', n, ', T = ', '{:9.5f}'.format(stop_time - start_time), sep='')"
   ]
  },
  {
   "cell_type": "markdown",
   "id": "edd65832",
   "metadata": {},
   "source": [
    "Let's plot the results on a logarithmic scale."
   ]
  },
  {
   "cell_type": "code",
   "execution_count": 13,
   "id": "ec0e3b70",
   "metadata": {},
   "outputs": [
    {
     "data": {
      "image/png": "[encoded data removed]",
      "text/plain": [
       "<Figure size 432x288 with 1 Axes>"
      ]
     },
     "metadata": {
      "needs_background": "light"
     },
     "output_type": "display_data"
    }
   ],
   "source": [
    "plt.plot(range(2, 25), times)\n",
    "plt.yscale('log')\n",
    "plt.xlabel('n')\n",
    "plt.ylabel('T [s]')\n",
    "plt.show()"
   ]
  },
  {
   "cell_type": "markdown",
   "id": "1ac6cd63",
   "metadata": {},
   "source": [
    "We see that the execution time grows exponentially (straight line on logarithmic scale). The code for the solver is not optimized and only runs on one core on a small laptop. But you get an idea why this brute force method to solve the problem will not work for much larger problems."
   ]
  },
  {
   "cell_type": "markdown",
   "id": "e5bf10d7",
   "metadata": {},
   "source": [
    "# Exercise 2"
   ]
  },
  {
   "cell_type": "markdown",
   "id": "15d82afb",
   "metadata": {},
   "source": [
    "(a) Write a function which checks if the result vector violates the constraint $z_1 = z_2$."
   ]
  },
  {
   "cell_type": "code",
   "execution_count": 14,
   "id": "b687a36d",
   "metadata": {},
   "outputs": [],
   "source": [
    "def is_z1_equal_z2(z):\n",
    "    if z[0] == z[1]:\n",
    "        return True\n",
    "    else:\n",
    "        return False"
   ]
  },
  {
   "cell_type": "markdown",
   "id": "b6d3f127",
   "metadata": {},
   "source": [
    "(b) Run the solver from Exercise 1."
   ]
  },
  {
   "cell_type": "code",
   "execution_count": 15,
   "id": "97529092",
   "metadata": {},
   "outputs": [
    {
     "name": "stdout",
     "output_type": "stream",
     "text": [
      "(4, array([0, 0, 1, 1, 0])) True\n"
     ]
    }
   ],
   "source": [
    "l = 1\n",
    "q_c = np.array([[2-l, -2*(1-l), -2,  0,  0],\n",
    "                [  0,      2-l,  0, -2,  0],\n",
    "                [  0,        0,  3, -2, -2],\n",
    "                [  0,        0,  0,  3, -2],\n",
    "                [  0,        0,  0,  0,  2]])\n",
    "result = solve_qubo(q_c)\n",
    "print(result, is_z1_equal_z2(result[1]))"
   ]
  },
  {
   "attachments": {},
   "cell_type": "markdown",
   "id": "0781e105",
   "metadata": {},
   "source": [
    "The constraint is not violated. The solution looks like this:\n",
    "![One possible solution](figures/max_cut_1_constraint_solution_res.png)"
   ]
  },
  {
   "cell_type": "markdown",
   "id": "da2fbc39",
   "metadata": {},
   "source": [
    "Consider the graph of Exercise 1 (d) with the additional constraints $z_1=z_2$, $z_7=z_8$, $z_1 \\neq z_7$. Formulate the QUBO and solve the optimization problem.\n",
    "\n",
    "For $z_i \\neq z_j$, we can use the penalty term $\\lambda(-2z_iz_j + z_i + z_j - 1)$. For $z_i = z_j$ this term becomes $-1$ and $0$ otherwise. The updated QUBO is:"
   ]
  },
  {
   "cell_type": "code",
   "execution_count": 16,
   "id": "655cb269",
   "metadata": {},
   "outputs": [
    {
     "name": "stdout",
     "output_type": "stream",
     "text": [
      "[[ 2  0 -2  0  0  0 -2  0]\n",
      " [ 0  1 -2  0  0  0  0  0]\n",
      " [ 0  0  3 -2  0  0  0  0]\n",
      " [ 0  0  0  2  0 -2  0  0]\n",
      " [ 0  0  0  0  2 -2  0 -2]\n",
      " [ 0  0  0  0  0  4 -2 -2]\n",
      " [ 0  0  0  0  0  0  1  2]\n",
      " [ 0  0  0  0  0  0  0  1]]\n"
     ]
    }
   ],
   "source": [
    "l1 = 1\n",
    "l2 = 1\n",
    "l3 = 1\n",
    "q2_c = np.array([[2-l1+l3, -2*(1-l1), -2,  0,  0,  0,   -2*l3,    0],\n",
    "                 [      0,      2-l1, -2,  0,  0,  0,       0,    0],\n",
    "                 [      0,         0,  3, -2,  0,  0,       0,    0],\n",
    "                 [      0,         0,  0,  2,  0, -2,       0,    0],\n",
    "                 [      0,         0,  0,  0,  2, -2,       0,   -2],\n",
    "                 [      0,         0,  0,  0,  0,  4,      -2,   -2],\n",
    "                 [      0,         0,  0,  0,  0,  0, 1-l2+l3, 2*l2],\n",
    "                 [      0,         0,  0,  0,  0,  0,       0, 2-l2]])\n",
    "print(q2_c)"
   ]
  },
  {
   "cell_type": "code",
   "execution_count": 17,
   "id": "3d169067",
   "metadata": {},
   "outputs": [],
   "source": [
    "def are_constraints_kept(z):\n",
    "    if z[0] == z[1] and z[6] == z[7] and z[0] != z[6]:\n",
    "        return True\n",
    "    else:\n",
    "        return False"
   ]
  },
  {
   "cell_type": "code",
   "execution_count": 18,
   "id": "2790f4fe",
   "metadata": {},
   "outputs": [
    {
     "name": "stdout",
     "output_type": "stream",
     "text": [
      "(7, array([0, 0, 1, 0, 0, 0, 1, 1])) True\n"
     ]
    }
   ],
   "source": [
    "result = solve_qubo(q2_c)\n",
    "print(result, are_constraints_kept(result[1]))"
   ]
  },
  {
   "attachments": {},
   "cell_type": "markdown",
   "id": "e9005dc7",
   "metadata": {},
   "source": [
    "We find the following result:\n",
    "![One possible solution](figures/max_cut_2_constraint_solution_res.png)"
   ]
  },
  {
   "cell_type": "markdown",
   "id": "c0b643ce",
   "metadata": {},
   "source": [
    "# Exercise 3"
   ]
  },
  {
   "cell_type": "markdown",
   "id": "ef04bb2b",
   "metadata": {},
   "source": [
    "(b) Run the example code and compare the result with result from Exercise 1."
   ]
  },
  {
   "cell_type": "code",
   "execution_count": 19,
   "id": "ece906bb",
   "metadata": {},
   "outputs": [],
   "source": [
    "from collections import defaultdict\n",
    "from dwave.system.samplers import DWaveSampler\n",
    "from dwave.system.composites import EmbeddingComposite\n",
    "\n",
    "\n",
    "# create a dictionary containing the non-zero elements of Q\n",
    "def create_dict(q):\n",
    "    n = q.shape[0]\n",
    "    q_dict = defaultdict(int)\n",
    "    for row in range(n):\n",
    "        for col in range(n):\n",
    "            if q[row, col] != 0:\n",
    "                # negate the values of Q, since we have to minimize the objective function\n",
    "                q_dict[row, col] = -q[row, col]\n",
    "    return q_dict\n",
    "\n",
    "\n",
    "chainstrength = 8\n",
    "numruns = 10\n",
    "\n",
    "sampler = EmbeddingComposite(DWaveSampler())\n",
    "result = sampler.sample_qubo(create_dict(np.array(Q)),\n",
    "                             chain_strength=chainstrength,\n",
    "                             num_reads=numruns,\n",
    "                             label='Max Cut n=5')"
   ]
  },
  {
   "cell_type": "code",
   "execution_count": 20,
   "id": "2e097f1a",
   "metadata": {
    "scrolled": true
   },
   "outputs": [
    {
     "name": "stdout",
     "output_type": "stream",
     "text": [
      "Sample: {0: 0, 1: 1, 2: 1, 3: 0, 4: 0}, Energy: -5.0\n",
      "Sample: {0: 0, 1: 1, 2: 1, 3: 0, 4: 1}, Energy: -5.0\n",
      "Sample: {0: 1, 1: 0, 2: 0, 3: 1, 4: 0}, Energy: -5.0\n",
      "Sample: {0: 1, 1: 0, 2: 0, 3: 1, 4: 1}, Energy: -5.0\n"
     ]
    }
   ],
   "source": [
    "# print the results of all runs\n",
    "for sample, energy in result.data(fields=['sample', 'energy']):\n",
    "    print('Sample: ', sample, ', ', 'Energy: ', energy, sep='')"
   ]
  },
  {
   "cell_type": "markdown",
   "id": "33f8df7c",
   "metadata": {},
   "source": [
    "(c) Run the QUBO with the additional constraint."
   ]
  },
  {
   "cell_type": "code",
   "execution_count": 21,
   "id": "bf992f6a",
   "metadata": {},
   "outputs": [],
   "source": [
    "result_c = sampler.sample_qubo(create_dict(q_c),\n",
    "                             chain_strength=chainstrength,\n",
    "                             num_reads=numruns,\n",
    "                             label='Max Cut n=5 with Constraints')"
   ]
  },
  {
   "cell_type": "code",
   "execution_count": 22,
   "id": "59df10ce",
   "metadata": {},
   "outputs": [
    {
     "name": "stdout",
     "output_type": "stream",
     "text": [
      "Sample: {0: 1, 1: 0, 2: 0, 3: 1, 4: 0}, Energy:-4.0\n",
      "Sample: {0: 1, 1: 1, 2: 0, 3: 0, 4: 1}, Energy:-4.0\n",
      "Sample: {0: 0, 1: 1, 2: 1, 3: 0, 4: 1}, Energy:-4.0\n"
     ]
    }
   ],
   "source": [
    "for sample, energy in result_c.data(fields=['sample', 'energy']):\n",
    "    print('Sample: ', sample, ', ', 'Energy:', energy, sep='')"
   ]
  },
  {
   "cell_type": "markdown",
   "id": "fb475b19",
   "metadata": {},
   "source": [
    "(d) Run a large problem."
   ]
  },
  {
   "cell_type": "code",
   "execution_count": 23,
   "id": "6ed71f87",
   "metadata": {},
   "outputs": [],
   "source": [
    "# n=500 can still be handled by the annealer, for n=1000 it was not possible to find a layout. For problems which\n",
    "# are too large for the chip, there is also a hybrid solver, where the problem gets divided into smaller parts.\n",
    "result_r = sampler.sample_qubo(create_dict(create_rand_qubo(500)),\n",
    "                             chain_strength=chainstrength,\n",
    "                             num_reads=1000,\n",
    "                             label='Max Cut n=500')"
   ]
  },
  {
   "cell_type": "code",
   "execution_count": 24,
   "id": "ff247473",
   "metadata": {},
   "outputs": [
    {
     "name": "stdout",
     "output_type": "stream",
     "text": [
      "Best solution: -634.0\n"
     ]
    },
    {
     "data": {
      "image/png": "[encoded data removed]",
      "text/plain": [
       "<Figure size 432x288 with 1 Axes>"
      ]
     },
     "metadata": {
      "needs_background": "light"
     },
     "output_type": "display_data"
    }
   ],
   "source": [
    "import matplotlib.pyplot as plt\n",
    "# create a histogram of the results\n",
    "energies = []\n",
    "for sample, energy in result_r.data(fields=['sample', 'energy']):\n",
    "    energies.append(energy)\n",
    "plt.hist(energies, bins=range(int(min(energies)), int(max(energies)+1)))\n",
    "print('Best solution:', min(energies))\n",
    "plt.show()"
   ]
  }
 ],
 "metadata": {
  "kernelspec": {
   "display_name": "Python 3",
   "language": "python",
   "name": "python3"
  },
  "language_info": {
   "codemirror_mode": {
    "name": "ipython",
    "version": 3
   },
   "file_extension": ".py",
   "mimetype": "text/x-python",
   "name": "python",
   "nbconvert_exporter": "python",
   "pygments_lexer": "ipython3",
   "version": "3.8.10"
  }
 },
 "nbformat": 4,
 "nbformat_minor": 5
}
