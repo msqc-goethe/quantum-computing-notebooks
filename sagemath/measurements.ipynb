{
 "cells": [
  {
   "cell_type": "markdown",
   "id": "38ac87b6",
   "metadata": {},
   "source": [
    "# Probability a state $\\lvert \\alpha \\rangle$ jumps to Eigenstate $\\lvert a^{(i)}\\rangle$"
   ]
  },
  {
   "cell_type": "markdown",
   "id": "bbd33325",
   "metadata": {},
   "source": [
    "The probability a system jumps in $\\lvert a^{(i)}\\rangle$ is postulated as $P_{\\lvert\\alpha\\rangle\\stackrel{\\mathsf{A}}{\\Rightarrow} \\lvert a^{(i)}\\rangle} := |\\langle a^{(i)} \\lvert \\alpha \\rangle|^2$. ``x_0``, ``x_1``, ``y_0``, ``y_1``, ``z_0`` and ``z_1`` are the kets $\\lvert 0\\rangle$, $\\lvert 1\\rangle$, $\\lvert +\\rangle$, $\\lvert -\\rangle$, $\\lvert +i\\rangle$ and $\\lvert -i\\rangle$. The capital ``I`` denotes the imaginary unit in Sagemath. The ``transpose`` is required to get a column vector."
   ]
  },
  {
   "cell_type": "code",
   "execution_count": 1,
   "id": "a868afdf",
   "metadata": {},
   "outputs": [
    {
     "data": {
      "text/html": [
       "<html><script type=\"math/tex; mode=display\">\\newcommand{\\Bold}[1]{\\mathbf{#1}}\\left(\\begin{array}{r}\n",
       "\\frac{1}{2} \\, \\sqrt{2} \\\\\n",
       "\\frac{1}{2} \\, \\sqrt{2}\n",
       "\\end{array}\\right) \\left(\\begin{array}{r}\n",
       "\\frac{1}{2} \\, \\sqrt{2} \\\\\n",
       "-\\frac{1}{2} \\, \\sqrt{2}\n",
       "\\end{array}\\right) \\left(\\begin{array}{r}\n",
       "\\frac{1}{2} \\, \\sqrt{2} \\\\\n",
       "\\frac{1}{2} i \\, \\sqrt{2}\n",
       "\\end{array}\\right) \\left(\\begin{array}{r}\n",
       "\\frac{1}{2} \\, \\sqrt{2} \\\\\n",
       "-\\frac{1}{2} i \\, \\sqrt{2}\n",
       "\\end{array}\\right) \\left(\\begin{array}{r}\n",
       "1 \\\\\n",
       "0\n",
       "\\end{array}\\right) \\left(\\begin{array}{r}\n",
       "0 \\\\\n",
       "1\n",
       "\\end{array}\\right)</script></html>"
      ],
      "text/plain": [
       "[1/2*sqrt(2)]\n",
       "[1/2*sqrt(2)] [ 1/2*sqrt(2)]\n",
       "[-1/2*sqrt(2)] [  1/2*sqrt(2)]\n",
       "[1/2*I*sqrt(2)] [   1/2*sqrt(2)]\n",
       "[-1/2*I*sqrt(2)] [1]\n",
       "[0] [0]\n",
       "[1]"
      ]
     },
     "metadata": {},
     "output_type": "display_data"
    }
   ],
   "source": [
    "x_0 = 1/sqrt(2) * matrix((1, 1)).transpose()\n",
    "x_1 = 1/sqrt(2) * matrix((1, -1)).transpose()\n",
    "y_0 = 1/sqrt(2) * matrix((1, I)).transpose()\n",
    "y_1 = 1/sqrt(2) * matrix((1, -I)).transpose()\n",
    "z_0 = matrix((1, 0)).transpose()\n",
    "z_1 = matrix((0, 1)).transpose()\n",
    "pretty_print(x_0, x_1, y_0, y_1, z_0, z_1)"
   ]
  },
  {
   "cell_type": "markdown",
   "id": "102f65cc",
   "metadata": {},
   "source": [
    "We calculate the probability that different systems jump in $\\lvert 0 \\rangle$. The ``conjugate_transpose`` function is used to create a bra from a ket."
   ]
  },
  {
   "cell_type": "code",
   "execution_count": 2,
   "id": "280bb17b",
   "metadata": {},
   "outputs": [
    {
     "data": {
      "text/html": [
       "<html><script type=\"math/tex; mode=display\">\\newcommand{\\Bold}[1]{\\mathbf{#1}}1</script></html>"
      ],
      "text/plain": [
       "1"
      ]
     },
     "metadata": {},
     "output_type": "display_data"
    },
    {
     "data": {
      "text/html": [
       "<html><script type=\"math/tex; mode=display\">\\newcommand{\\Bold}[1]{\\mathbf{#1}}0</script></html>"
      ],
      "text/plain": [
       "0"
      ]
     },
     "metadata": {},
     "output_type": "display_data"
    },
    {
     "data": {
      "text/html": [
       "<html><script type=\"math/tex; mode=display\">\\newcommand{\\Bold}[1]{\\mathbf{#1}}\\frac{1}{2}</script></html>"
      ],
      "text/plain": [
       "1/2"
      ]
     },
     "metadata": {},
     "output_type": "display_data"
    },
    {
     "data": {
      "text/html": [
       "<html><script type=\"math/tex; mode=display\">\\newcommand{\\Bold}[1]{\\mathbf{#1}}\\frac{1}{2}</script></html>"
      ],
      "text/plain": [
       "1/2"
      ]
     },
     "metadata": {},
     "output_type": "display_data"
    },
    {
     "data": {
      "text/html": [
       "<html><script type=\"math/tex; mode=display\">\\newcommand{\\Bold}[1]{\\mathbf{#1}}\\frac{1}{2}</script></html>"
      ],
      "text/plain": [
       "1/2"
      ]
     },
     "metadata": {},
     "output_type": "display_data"
    },
    {
     "data": {
      "text/html": [
       "<html><script type=\"math/tex; mode=display\">\\newcommand{\\Bold}[1]{\\mathbf{#1}}\\frac{1}{2}</script></html>"
      ],
      "text/plain": [
       "1/2"
      ]
     },
     "metadata": {},
     "output_type": "display_data"
    }
   ],
   "source": [
    "pretty_print(abs((z_0.conjugate_transpose() * z_0)[0])^2)\n",
    "pretty_print(abs((z_0.conjugate_transpose() * z_1)[0])^2)\n",
    "pretty_print(abs((z_0.conjugate_transpose() * x_0)[0])^2)\n",
    "pretty_print(abs((z_0.conjugate_transpose() * x_1)[0])^2)\n",
    "pretty_print(abs((z_0.conjugate_transpose() * y_0)[0])^2)\n",
    "pretty_print(abs((z_0.conjugate_transpose() * x_1)[0])^2)"
   ]
  },
  {
   "cell_type": "markdown",
   "id": "e4b1d5ba",
   "metadata": {},
   "source": [
    "# Constructing Measurement Operators"
   ]
  },
  {
   "cell_type": "markdown",
   "id": "8ed039d8",
   "metadata": {},
   "source": [
    "We can construct $S_x$, $S_y$ and $S_z$ with $\\mathsf{A} = \\sum_{i=1}^na_i\\lvert a^{(i)}\\rangle\\langle a^{(i)}\\lvert$. In the following code, the elements of the sum are written down explicitely, since there are only two elements. Note that we dropped the constant $\\hbar / 2$ for simplicity."
   ]
  },
  {
   "cell_type": "code",
   "execution_count": 3,
   "id": "a287224e",
   "metadata": {},
   "outputs": [
    {
     "data": {
      "text/html": [
       "<html><script type=\"math/tex; mode=display\">\\newcommand{\\Bold}[1]{\\mathbf{#1}}\\left(\\begin{array}{rr}\n",
       "0 & 1 \\\\\n",
       "1 & 0\n",
       "\\end{array}\\right) \\left(\\begin{array}{rr}\n",
       "0 & -i \\\\\n",
       "i & 0\n",
       "\\end{array}\\right) \\left(\\begin{array}{rr}\n",
       "1 & 0 \\\\\n",
       "0 & -1\n",
       "\\end{array}\\right)</script></html>"
      ],
      "text/plain": [
       "[0 1]\n",
       "[1 0] [ 0 -I]\n",
       "[ I  0] [ 1  0]\n",
       "[ 0 -1]"
      ]
     },
     "metadata": {},
     "output_type": "display_data"
    }
   ],
   "source": [
    "Sx = x_0 * x_0.conjugate_transpose() - x_1 * x_1.conjugate_transpose()\n",
    "Sy = y_0 * y_0.conjugate_transpose() - y_1 * y_1.conjugate_transpose()\n",
    "Sz = z_0 * z_0.conjugate_transpose() - z_1 * z_1.conjugate_transpose()\n",
    "pretty_print(Sx, Sy, Sz)"
   ]
  },
  {
   "cell_type": "markdown",
   "id": "51916f74",
   "metadata": {},
   "source": [
    "# Expectation Values"
   ]
  },
  {
   "cell_type": "markdown",
   "id": "592b047b",
   "metadata": {},
   "source": [
    "The expectation value when \"measuring\" a state $\\lvert\\alpha\\rangle$ by an operator $A$ can be calculated as $\\langle\\alpha\\rvert A \\lvert\\alpha\\rangle$. Note that since we dropped the constant $\\hbar / 2$ when we constructed the measurement operators, we need to multiply all expectation values with this constant."
   ]
  },
  {
   "cell_type": "code",
   "execution_count": 4,
   "id": "132eaea4",
   "metadata": {},
   "outputs": [
    {
     "data": {
      "text/html": [
       "<html><script type=\"math/tex; mode=display\">\\newcommand{\\Bold}[1]{\\mathbf{#1}}\\left(\\begin{array}{r}\n",
       "1\n",
       "\\end{array}\\right) \\left(\\begin{array}{r}\n",
       "-1\n",
       "\\end{array}\\right)</script></html>"
      ],
      "text/plain": [
       "[1] [-1]"
      ]
     },
     "metadata": {},
     "output_type": "display_data"
    },
    {
     "data": {
      "text/html": [
       "<html><script type=\"math/tex; mode=display\">\\newcommand{\\Bold}[1]{\\mathbf{#1}}\\left(\\begin{array}{r}\n",
       "0\n",
       "\\end{array}\\right) \\left(\\begin{array}{r}\n",
       "0\n",
       "\\end{array}\\right)</script></html>"
      ],
      "text/plain": [
       "[0] [0]"
      ]
     },
     "metadata": {},
     "output_type": "display_data"
    },
    {
     "data": {
      "text/html": [
       "<html><script type=\"math/tex; mode=display\">\\newcommand{\\Bold}[1]{\\mathbf{#1}}\\left(\\begin{array}{r}\n",
       "0\n",
       "\\end{array}\\right) \\left(\\begin{array}{r}\n",
       "0\n",
       "\\end{array}\\right)</script></html>"
      ],
      "text/plain": [
       "[0] [0]"
      ]
     },
     "metadata": {},
     "output_type": "display_data"
    }
   ],
   "source": [
    "pretty_print(x_0.conjugate_transpose() * Sx * x_0, x_1.conjugate_transpose() * Sx * x_1)\n",
    "pretty_print(y_0.conjugate_transpose() * Sx * y_0, y_1.conjugate_transpose() * Sx * y_1)\n",
    "pretty_print(z_0.conjugate_transpose() * Sx * z_0, z_1.conjugate_transpose() * Sx * z_1)"
   ]
  },
  {
   "cell_type": "code",
   "execution_count": 5,
   "id": "e6ee2ecd",
   "metadata": {},
   "outputs": [
    {
     "data": {
      "text/html": [
       "<html><script type=\"math/tex; mode=display\">\\newcommand{\\Bold}[1]{\\mathbf{#1}}\\left(\\begin{array}{r}\n",
       "0\n",
       "\\end{array}\\right) \\left(\\begin{array}{r}\n",
       "0\n",
       "\\end{array}\\right)</script></html>"
      ],
      "text/plain": [
       "[0] [0]"
      ]
     },
     "metadata": {},
     "output_type": "display_data"
    },
    {
     "data": {
      "text/html": [
       "<html><script type=\"math/tex; mode=display\">\\newcommand{\\Bold}[1]{\\mathbf{#1}}\\left(\\begin{array}{r}\n",
       "1\n",
       "\\end{array}\\right) \\left(\\begin{array}{r}\n",
       "-1\n",
       "\\end{array}\\right)</script></html>"
      ],
      "text/plain": [
       "[1] [-1]"
      ]
     },
     "metadata": {},
     "output_type": "display_data"
    },
    {
     "data": {
      "text/html": [
       "<html><script type=\"math/tex; mode=display\">\\newcommand{\\Bold}[1]{\\mathbf{#1}}\\left(\\begin{array}{r}\n",
       "0\n",
       "\\end{array}\\right) \\left(\\begin{array}{r}\n",
       "0\n",
       "\\end{array}\\right)</script></html>"
      ],
      "text/plain": [
       "[0] [0]"
      ]
     },
     "metadata": {},
     "output_type": "display_data"
    }
   ],
   "source": [
    "pretty_print(x_0.conjugate_transpose() * Sy * x_0, x_1.conjugate_transpose() * Sy * x_1)\n",
    "pretty_print(y_0.conjugate_transpose() * Sy * y_0, y_1.conjugate_transpose() * Sy * y_1)\n",
    "pretty_print(z_0.conjugate_transpose() * Sy * z_0, z_1.conjugate_transpose() * Sy * z_1)"
   ]
  },
  {
   "cell_type": "code",
   "execution_count": 6,
   "id": "94c673a5",
   "metadata": {},
   "outputs": [
    {
     "data": {
      "text/html": [
       "<html><script type=\"math/tex; mode=display\">\\newcommand{\\Bold}[1]{\\mathbf{#1}}\\left(\\begin{array}{r}\n",
       "0\n",
       "\\end{array}\\right) \\left(\\begin{array}{r}\n",
       "0\n",
       "\\end{array}\\right)</script></html>"
      ],
      "text/plain": [
       "[0] [0]"
      ]
     },
     "metadata": {},
     "output_type": "display_data"
    },
    {
     "data": {
      "text/html": [
       "<html><script type=\"math/tex; mode=display\">\\newcommand{\\Bold}[1]{\\mathbf{#1}}\\left(\\begin{array}{r}\n",
       "0\n",
       "\\end{array}\\right) \\left(\\begin{array}{r}\n",
       "0\n",
       "\\end{array}\\right)</script></html>"
      ],
      "text/plain": [
       "[0] [0]"
      ]
     },
     "metadata": {},
     "output_type": "display_data"
    },
    {
     "data": {
      "text/html": [
       "<html><script type=\"math/tex; mode=display\">\\newcommand{\\Bold}[1]{\\mathbf{#1}}\\left(\\begin{array}{r}\n",
       "1\n",
       "\\end{array}\\right) \\left(\\begin{array}{r}\n",
       "-1\n",
       "\\end{array}\\right)</script></html>"
      ],
      "text/plain": [
       "[1] [-1]"
      ]
     },
     "metadata": {},
     "output_type": "display_data"
    }
   ],
   "source": [
    "pretty_print(x_0.conjugate_transpose() * Sz * x_0, x_1.conjugate_transpose() * Sz * x_1)\n",
    "pretty_print(y_0.conjugate_transpose() * Sz * y_0, y_1.conjugate_transpose() * Sz * y_1)\n",
    "pretty_print(z_0.conjugate_transpose() * Sz * z_0, z_1.conjugate_transpose() * Sz * z_1)"
   ]
  }
 ],
 "metadata": {
  "kernelspec": {
   "display_name": "SageMath 9.0",
   "language": "sage",
   "name": "sagemath"
  },
  "language_info": {
   "codemirror_mode": {
    "name": "ipython",
    "version": 3
   },
   "file_extension": ".py",
   "mimetype": "text/x-python",
   "name": "python",
   "nbconvert_exporter": "python",
   "pygments_lexer": "ipython3",
   "version": "3.8.10"
  }
 },
 "nbformat": 4,
 "nbformat_minor": 5
}
