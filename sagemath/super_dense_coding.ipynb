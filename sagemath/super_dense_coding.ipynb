{
 "cells": [
  {
   "cell_type": "markdown",
   "id": "de43578b",
   "metadata": {},
   "source": [
    "# Superdense Coding"
   ]
  },
  {
   "attachments": {
    "circuit_beta_00-2.png": {
     "image/png": "[encoded data removed]"
    }
   },
   "cell_type": "markdown",
   "id": "fd443695",
   "metadata": {},
   "source": [
    "Parts of this notebook are inspired by Michael Loceffs script \"A Course in Quantum Computing\", which is a very well written introductions to quantum computing.\n",
    "\n",
    "Claim: We can send two bits of information with only one qubit. Careful: It may seem like a qubit contains an infinite amount of information, since we describe the state with two complex numbers, however the state collapses during measurement.\n",
    "For the algorithm we'll make use of the four Bell states:\n",
    "* $\\lvert\\beta_{00}\\rangle = \\frac{\\lvert{00}\\rangle + \\lvert{11}\\rangle}{\\sqrt{2}}$\n",
    "* $\\lvert\\beta_{01}\\rangle = \\frac{\\lvert{01}\\rangle + \\lvert{10}\\rangle}{\\sqrt{2}}$\n",
    "* $\\lvert\\beta_{10}\\rangle = \\frac{\\lvert{00}\\rangle - \\lvert{11}\\rangle}{\\sqrt{2}}$\n",
    "* $\\lvert\\beta_{11}\\rangle = \\frac{\\lvert{01}\\rangle - \\lvert{10}\\rangle}{\\sqrt{2}}$\n",
    "\n",
    "First we need to prepare the state $\\lvert\\beta_{00}\\rangle$, which can be done with the following circuit:\n",
    "![circuit_beta_00-2.png](attachment:circuit_beta_00-2.png)"
   ]
  },
  {
   "cell_type": "code",
   "execution_count": 1,
   "id": "09b67fe6",
   "metadata": {},
   "outputs": [
    {
     "data": {
      "text/html": [
       "<html><script type=\"math/tex; mode=display\">\\newcommand{\\Bold}[1]{\\mathbf{#1}}\\left(\\begin{array}{r}\n",
       "1 \\\\\n",
       "0 \\\\\n",
       "\\hline\n",
       " 0 \\\\\n",
       "0\n",
       "\\end{array}\\right)</script></html>"
      ],
      "text/plain": [
       "[1]\n",
       "[0]\n",
       "[-]\n",
       "[0]\n",
       "[0]"
      ]
     },
     "metadata": {},
     "output_type": "display_data"
    }
   ],
   "source": [
    "psi_0 = matrix([1, 0]).transpose()\n",
    "# states of multiple qubits can be derived with the tensor product of single qubit states\n",
    "psi_00 = psi_0.tensor_product(psi_0)\n",
    "pretty_print(psi_00)"
   ]
  },
  {
   "cell_type": "code",
   "execution_count": 2,
   "id": "1350af4d",
   "metadata": {},
   "outputs": [
    {
     "data": {
      "text/html": [
       "<html><script type=\"math/tex; mode=display\">\\newcommand{\\Bold}[1]{\\mathbf{#1}}\\left(\\begin{array}{rr|rr}\n",
       "\\frac{1}{2} \\, \\sqrt{2} & 0 & \\frac{1}{2} \\, \\sqrt{2} & 0 \\\\\n",
       "0 & \\frac{1}{2} \\, \\sqrt{2} & 0 & \\frac{1}{2} \\, \\sqrt{2} \\\\\n",
       "\\hline\n",
       " \\frac{1}{2} \\, \\sqrt{2} & 0 & -\\frac{1}{2} \\, \\sqrt{2} & 0 \\\\\n",
       "0 & \\frac{1}{2} \\, \\sqrt{2} & 0 & -\\frac{1}{2} \\, \\sqrt{2}\n",
       "\\end{array}\\right) \\left(\\begin{array}{rrrr}\n",
       "1 & 0 & 0 & 0 \\\\\n",
       "0 & 1 & 0 & 0 \\\\\n",
       "0 & 0 & 0 & 1 \\\\\n",
       "0 & 0 & 1 & 0\n",
       "\\end{array}\\right)</script></html>"
      ],
      "text/plain": [
       "[ 1/2*sqrt(2)            0| 1/2*sqrt(2)            0]\n",
       "[           0  1/2*sqrt(2)|           0  1/2*sqrt(2)]\n",
       "[-------------------------+-------------------------]\n",
       "[ 1/2*sqrt(2)            0|-1/2*sqrt(2)            0]\n",
       "[           0  1/2*sqrt(2)|           0 -1/2*sqrt(2)] [1 0 0 0]\n",
       "[0 1 0 0]\n",
       "[0 0 0 1]\n",
       "[0 0 1 0]"
      ]
     },
     "metadata": {},
     "output_type": "display_data"
    }
   ],
   "source": [
    "# parallel gates are the tensor product of the individual gates\n",
    "# \"no gate\" is equivalent to the identity matrix\n",
    "H = 1 / sqrt(2) * matrix([[1, 1], [1, -1]])\n",
    "H_2 = H.tensor_product(identity_matrix(2))\n",
    "CNOT = matrix([[1, 0, 0, 0], [0, 1, 0, 0], [0, 0, 0, 1], [0, 0, 1, 0]])\n",
    "pretty_print(H_2, CNOT)"
   ]
  },
  {
   "cell_type": "code",
   "execution_count": 3,
   "id": "433e7fbb",
   "metadata": {},
   "outputs": [
    {
     "data": {
      "text/html": [
       "<html><script type=\"math/tex; mode=display\">\\newcommand{\\Bold}[1]{\\mathbf{#1}}\\left(\\begin{array}{r}\n",
       "\\frac{1}{2} \\, \\sqrt{2} \\\\\n",
       "0 \\\\\n",
       "0 \\\\\n",
       "\\frac{1}{2} \\, \\sqrt{2}\n",
       "\\end{array}\\right)</script></html>"
      ],
      "text/plain": [
       "[1/2*sqrt(2)]\n",
       "[          0]\n",
       "[          0]\n",
       "[1/2*sqrt(2)]"
      ]
     },
     "metadata": {},
     "output_type": "display_data"
    }
   ],
   "source": [
    "# lets prepare the bell state\n",
    "# careful: multiplication is done in reverse order compared to the circuit diagram, \n",
    "# since gates are applied from the left\n",
    "bell_00 = CNOT * H_2 * psi_00\n",
    "pretty_print(bell_00)"
   ]
  },
  {
   "attachments": {},
   "cell_type": "markdown",
   "id": "a4550210",
   "metadata": {},
   "source": [
    "Qubits in the bell state are entangled, we can see from the ket that either both collapse to 0 or both collapse to 1. In a preparation step, Alice and Bob both take one of the qubits. This can be done any time before the communication takes place and the qubits can be spatially seperated (we \"only\" need to asure, that the qubits are not disturbed and lose their entaglement).\n",
    "The qubits are spatially seperated, but still represent an inseperable common state!\n",
    "\n",
    "To encode her message, Alice applies one of the following gates:\n",
    "\n",
    "| Alice wants to send | Alice applies | Equivalent binary gate         | New state                 |\n",
    "|:-------------------:|:-------------:|:------------------------------:|:-------------------------:|\n",
    "|               $$00$$|        nothing|$$\\mathbb{1}\\otimes \\mathbb{1}$$|$$\\lvert\\beta_{00}\\rangle$$|\n",
    "|               $$01$$|          $$X$$|         $$X\\otimes \\mathbb{1}$$|$$\\lvert\\beta_{01}\\rangle$$|\n",
    "|               $$10$$|          $$Z$$|         $$Z\\otimes \\mathbb{1}$$|$$\\lvert\\beta_{10}\\rangle$$|\n",
    "|               $$11$$|         $$iY$$|        $$iY\\otimes \\mathbb{1}$$|$$\\lvert\\beta_{11}\\rangle$$|\n",
    "\n",
    "The gates manipulate the whole state and therefore also the qubit of Bob, which is indicated by the the tensor product with the identity matrix. But this also means that Bob does not need to do anything with his qubit for the operation! Application of one of the gates transforms the state to one of the other Bell states."
   ]
  },
  {
   "cell_type": "code",
   "execution_count": 4,
   "id": "856a65f9",
   "metadata": {},
   "outputs": [
    {
     "data": {
      "text/html": [
       "<html><script type=\"math/tex; mode=display\">\\newcommand{\\Bold}[1]{\\mathbf{#1}}\\left(\\begin{array}{rr}\n",
       "0 & 1 \\\\\n",
       "1 & 0\n",
       "\\end{array}\\right) \\left(\\begin{array}{rr}\n",
       "1 & 0 \\\\\n",
       "0 & -1\n",
       "\\end{array}\\right) \\left(\\begin{array}{rr}\n",
       "0 & 1 \\\\\n",
       "-1 & 0\n",
       "\\end{array}\\right)</script></html>"
      ],
      "text/plain": [
       "[0 1]\n",
       "[1 0] [ 1  0]\n",
       "[ 0 -1] [ 0  1]\n",
       "[-1  0]"
      ]
     },
     "metadata": {},
     "output_type": "display_data"
    }
   ],
   "source": [
    "X = matrix([[0, 1], [1, 0]])\n",
    "Z = matrix([[1, 0], [0, -1]])\n",
    "iY = matrix([[0, 1], [-1, 0]])\n",
    "pretty_print(X, Z, iY)"
   ]
  },
  {
   "cell_type": "code",
   "execution_count": 5,
   "id": "bb0b2234",
   "metadata": {},
   "outputs": [
    {
     "data": {
      "text/html": [
       "<html><script type=\"math/tex; mode=display\">\\newcommand{\\Bold}[1]{\\mathbf{#1}}\\left(\\begin{array}{rr|rr}\n",
       "0 & 0 & 1 & 0 \\\\\n",
       "0 & 0 & 0 & 1 \\\\\n",
       "\\hline\n",
       " 1 & 0 & 0 & 0 \\\\\n",
       "0 & 1 & 0 & 0\n",
       "\\end{array}\\right) \\left(\\begin{array}{rr|rr}\n",
       "1 & 0 & 0 & 0 \\\\\n",
       "0 & 1 & 0 & 0 \\\\\n",
       "\\hline\n",
       " 0 & 0 & -1 & 0 \\\\\n",
       "0 & 0 & 0 & -1\n",
       "\\end{array}\\right) \\left(\\begin{array}{rr|rr}\n",
       "0 & 0 & 1 & 0 \\\\\n",
       "0 & 0 & 0 & 1 \\\\\n",
       "\\hline\n",
       " -1 & 0 & 0 & 0 \\\\\n",
       "0 & -1 & 0 & 0\n",
       "\\end{array}\\right)</script></html>"
      ],
      "text/plain": [
       "[0 0|1 0]\n",
       "[0 0|0 1]\n",
       "[---+---]\n",
       "[1 0|0 0]\n",
       "[0 1|0 0] [ 1  0| 0  0]\n",
       "[ 0  1| 0  0]\n",
       "[-----+-----]\n",
       "[ 0  0|-1  0]\n",
       "[ 0  0| 0 -1] [ 0  0| 1  0]\n",
       "[ 0  0| 0  1]\n",
       "[-----+-----]\n",
       "[-1  0| 0  0]\n",
       "[ 0 -1| 0  0]"
      ]
     },
     "metadata": {},
     "output_type": "display_data"
    }
   ],
   "source": [
    "X_2 = X.tensor_product(identity_matrix(2))\n",
    "Z_2 = Z.tensor_product(identity_matrix(2))\n",
    "iY_2 = iY.tensor_product(identity_matrix(2))\n",
    "pretty_print(X_2, Z_2, iY_2)"
   ]
  },
  {
   "cell_type": "code",
   "execution_count": 6,
   "id": "fc683237",
   "metadata": {},
   "outputs": [
    {
     "data": {
      "text/html": [
       "<html><script type=\"math/tex; mode=display\">\\newcommand{\\Bold}[1]{\\mathbf{#1}}\\left(\\begin{array}{r}\n",
       "\\frac{1}{2} \\, \\sqrt{2} \\\\\n",
       "0 \\\\\n",
       "0 \\\\\n",
       "\\frac{1}{2} \\, \\sqrt{2}\n",
       "\\end{array}\\right) \\left(\\begin{array}{r}\n",
       "0 \\\\\n",
       "\\frac{1}{2} \\, \\sqrt{2} \\\\\n",
       "\\frac{1}{2} \\, \\sqrt{2} \\\\\n",
       "0\n",
       "\\end{array}\\right) \\left(\\begin{array}{r}\n",
       "\\frac{1}{2} \\, \\sqrt{2} \\\\\n",
       "0 \\\\\n",
       "0 \\\\\n",
       "-\\frac{1}{2} \\, \\sqrt{2}\n",
       "\\end{array}\\right) \\left(\\begin{array}{r}\n",
       "0 \\\\\n",
       "\\frac{1}{2} \\, \\sqrt{2} \\\\\n",
       "-\\frac{1}{2} \\, \\sqrt{2} \\\\\n",
       "0\n",
       "\\end{array}\\right)</script></html>"
      ],
      "text/plain": [
       "[1/2*sqrt(2)]\n",
       "[          0]\n",
       "[          0]\n",
       "[1/2*sqrt(2)] [          0]\n",
       "[1/2*sqrt(2)]\n",
       "[1/2*sqrt(2)]\n",
       "[          0] [ 1/2*sqrt(2)]\n",
       "[           0]\n",
       "[           0]\n",
       "[-1/2*sqrt(2)] [           0]\n",
       "[ 1/2*sqrt(2)]\n",
       "[-1/2*sqrt(2)]\n",
       "[           0]"
      ]
     },
     "metadata": {},
     "output_type": "display_data"
    }
   ],
   "source": [
    "bell_00 = identity_matrix(4) * bell_00\n",
    "bell_01 = X_2 * bell_00\n",
    "bell_10 = Z_2 * bell_00\n",
    "bell_11 = iY_2 * bell_00\n",
    "pretty_print(bell_00, bell_01, bell_10, bell_11)"
   ]
  },
  {
   "cell_type": "markdown",
   "id": "73ff4d28",
   "metadata": {},
   "source": [
    "Now Alice only needs to send one qubit to Bob for him to have two qubits in one of the four Bell states. All Bob has to do to decode the message is to measure along the Bell basis. This can be done by transforming the state to the z-basis. A Hadamard and CNOT gate transform from the z- to the Bell-basis, we can do the reverse operation to get back to the z-basis."
   ]
  },
  {
   "cell_type": "code",
   "execution_count": 7,
   "id": "a1a96254",
   "metadata": {},
   "outputs": [
    {
     "data": {
      "text/html": [
       "<html><script type=\"math/tex; mode=display\">\\newcommand{\\Bold}[1]{\\mathbf{#1}}\\left(\\begin{array}{rrrr}\n",
       "\\frac{1}{2} \\, \\sqrt{2} & 0 & 0 & \\frac{1}{2} \\, \\sqrt{2} \\\\\n",
       "0 & \\frac{1}{2} \\, \\sqrt{2} & \\frac{1}{2} \\, \\sqrt{2} & 0 \\\\\n",
       "\\frac{1}{2} \\, \\sqrt{2} & 0 & 0 & -\\frac{1}{2} \\, \\sqrt{2} \\\\\n",
       "0 & \\frac{1}{2} \\, \\sqrt{2} & -\\frac{1}{2} \\, \\sqrt{2} & 0\n",
       "\\end{array}\\right)</script></html>"
      ],
      "text/plain": [
       "[ 1/2*sqrt(2)            0            0  1/2*sqrt(2)]\n",
       "[           0  1/2*sqrt(2)  1/2*sqrt(2)            0]\n",
       "[ 1/2*sqrt(2)            0            0 -1/2*sqrt(2)]\n",
       "[           0  1/2*sqrt(2) -1/2*sqrt(2)            0]"
      ]
     },
     "metadata": {},
     "output_type": "display_data"
    }
   ],
   "source": [
    "H_2 = H.tensor_product(identity_matrix(2))\n",
    "BELL_adj = H_2 * CNOT\n",
    "pretty_print(BELL_adj)"
   ]
  },
  {
   "cell_type": "code",
   "execution_count": 8,
   "id": "4b28f9a5",
   "metadata": {},
   "outputs": [
    {
     "data": {
      "text/html": [
       "<html><script type=\"math/tex; mode=display\">\\newcommand{\\Bold}[1]{\\mathbf{#1}}\\left(\\begin{array}{r}\n",
       "1 \\\\\n",
       "0 \\\\\n",
       "0 \\\\\n",
       "0\n",
       "\\end{array}\\right) \\left(\\begin{array}{r}\n",
       "0 \\\\\n",
       "1 \\\\\n",
       "0 \\\\\n",
       "0\n",
       "\\end{array}\\right) \\left(\\begin{array}{r}\n",
       "0 \\\\\n",
       "0 \\\\\n",
       "1 \\\\\n",
       "0\n",
       "\\end{array}\\right) \\left(\\begin{array}{r}\n",
       "0 \\\\\n",
       "0 \\\\\n",
       "0 \\\\\n",
       "1\n",
       "\\end{array}\\right)</script></html>"
      ],
      "text/plain": [
       "[1]\n",
       "[0]\n",
       "[0]\n",
       "[0] [0]\n",
       "[1]\n",
       "[0]\n",
       "[0] [0]\n",
       "[0]\n",
       "[1]\n",
       "[0] [0]\n",
       "[0]\n",
       "[0]\n",
       "[1]"
      ]
     },
     "metadata": {},
     "output_type": "display_data"
    }
   ],
   "source": [
    "pretty_print(BELL_adj*bell_00, BELL_adj*bell_01, BELL_adj*bell_10, BELL_adj*bell_11)"
   ]
  },
  {
   "cell_type": "markdown",
   "id": "1c7d6066",
   "metadata": {},
   "source": [
    "What is the magic?\n",
    "* Alice sent two bits of classical information with only one qubit. The initial preparation can be done any time beforehand. Bob could fill a whole bag with prepared qubits, fly to the other end of the world end enjoy half the communication cost to communicate with Alice.\n",
    "* This is possible because both bits represent a common state and by physically manupilating only one bit, Alice can change the common state of both bits.\n",
    "* However she needs to send her bit to Bob for him to make use of it, so there is no violation of Einsteins theory of relativity.\n",
    "* The example is simple and easy to follow, but shows that we can do things in the quantum world, which are impossible in the classical world."
   ]
  }
 ],
 "metadata": {
  "kernelspec": {
   "display_name": "SageMath 9.0",
   "language": "sage",
   "name": "sagemath"
  },
  "language_info": {
   "codemirror_mode": {
    "name": "ipython",
    "version": 3
   },
   "file_extension": ".py",
   "mimetype": "text/x-python",
   "name": "python",
   "nbconvert_exporter": "python",
   "pygments_lexer": "ipython3",
   "version": "3.8.10"
  }
 },
 "nbformat": 4,
 "nbformat_minor": 5
}
